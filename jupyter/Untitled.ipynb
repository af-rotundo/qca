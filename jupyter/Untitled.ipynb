{
 "cells": [
  {
   "cell_type": "code",
   "execution_count": 1,
   "id": "559de8b6-70ed-4182-ab85-22d20b76057d",
   "metadata": {},
   "outputs": [],
   "source": [
    "import numpy as np\n",
    "import random\n",
    "from matplotlib import pyplot as plt\n",
    "from scipy.linalg import block_diag\n",
    "\n",
    "from util import *\n",
    "from thirring import *"
   ]
  },
  {
   "cell_type": "code",
   "execution_count": 2,
   "id": "9821aad5-4806-46c9-8b0a-80b83bbf99cc",
   "metadata": {},
   "outputs": [
    {
     "name": "stdout",
     "output_type": "stream",
     "text": [
      "CPU times: user 3.82 ms, sys: 3.29 ms, total: 7.11 ms\n",
      "Wall time: 14.2 ms\n"
     ]
    }
   ],
   "source": [
    "%%time\n",
    "n = 2\n",
    "chi = 1\n",
    "theta = 0\n",
    "L = 100\n",
    "qca = Thirring(L=L, n_particles=n, theta=theta, chi=chi) "
   ]
  },
  {
   "cell_type": "code",
   "execution_count": 3,
   "id": "ecb8cce7-c2b5-4d72-ba7a-6774e5fe746c",
   "metadata": {},
   "outputs": [
    {
     "ename": "ValueError",
     "evalue": "not implemented yet",
     "output_type": "error",
     "traceback": [
      "\u001b[0;31m---------------------------------------------------------------------------\u001b[0m",
      "\u001b[0;31mValueError\u001b[0m                                Traceback (most recent call last)",
      "Input \u001b[0;32mIn [3]\u001b[0m, in \u001b[0;36m<cell line: 6>\u001b[0;34m()\u001b[0m\n\u001b[1;32m      4\u001b[0m sigma_k_s \u001b[38;5;241m=\u001b[39m \u001b[38;5;241m2\u001b[39m\u001b[38;5;241m*\u001b[39m[\u001b[38;5;241m0.1\u001b[39m]\n\u001b[1;32m      5\u001b[0m signs \u001b[38;5;241m=\u001b[39m \u001b[38;5;241m2\u001b[39m\u001b[38;5;241m*\u001b[39m[\u001b[38;5;241m1\u001b[39m]\n\u001b[0;32m----> 6\u001b[0m qca\u001b[38;5;241m.\u001b[39mpsi \u001b[38;5;241m=\u001b[39m \u001b[43mqca\u001b[49m\u001b[38;5;241;43m.\u001b[39;49m\u001b[43min_state\u001b[49m\u001b[43m(\u001b[49m\u001b[43mk0s\u001b[49m\u001b[43m,\u001b[49m\u001b[43m \u001b[49m\u001b[43mx0s\u001b[49m\u001b[43m,\u001b[49m\u001b[43m \u001b[49m\u001b[43msigma_k_s\u001b[49m\u001b[43m,\u001b[49m\u001b[43m \u001b[49m\u001b[43msigns\u001b[49m\u001b[43m)\u001b[49m\n\u001b[1;32m      7\u001b[0m fig \u001b[38;5;241m=\u001b[39m plt\u001b[38;5;241m.\u001b[39mfigure(figsize\u001b[38;5;241m=\u001b[39m(\u001b[38;5;241m12\u001b[39m, \u001b[38;5;241m12\u001b[39m), dpi\u001b[38;5;241m=\u001b[39m\u001b[38;5;241m80\u001b[39m)\n\u001b[1;32m      8\u001b[0m fig\u001b[38;5;241m.\u001b[39madd_subplot(\u001b[38;5;241m3\u001b[39m, \u001b[38;5;241m2\u001b[39m, \u001b[38;5;241m1\u001b[39m)\n",
      "File \u001b[0;32m~/Documents/coding/qca_sim/thirring.py:56\u001b[0m, in \u001b[0;36mThirring.in_state\u001b[0;34m(self, k0s, x0s, sigma_k_s, signs)\u001b[0m\n\u001b[1;32m     40\u001b[0m \u001b[38;5;124;03m\"\"\"Build a initial state made out of gaussian wavepackets centered at locations specified by x0s, and momentum normally distributed around momenta specified by k0s with std deviation specified by sigma_k_s. \u001b[39;00m\n\u001b[1;32m     41\u001b[0m \n\u001b[1;32m     42\u001b[0m \u001b[38;5;124;03mFor more details on the gaussian wavepackes see the method 'one_particle_packet'. \u001b[39;00m\n\u001b[0;32m   (...)\u001b[0m\n\u001b[1;32m     53\u001b[0m \u001b[38;5;124;03m    np.ndarray: array representing the state of all particles\u001b[39;00m\n\u001b[1;32m     54\u001b[0m \u001b[38;5;124;03m\"\"\"\u001b[39;00m\n\u001b[1;32m     55\u001b[0m \u001b[38;5;28;01massert\u001b[39;00m \u001b[38;5;28mlen\u001b[39m(k0s) \u001b[38;5;241m==\u001b[39m \u001b[38;5;28mlen\u001b[39m(x0s) \u001b[38;5;129;01mand\u001b[39;00m \u001b[38;5;28mlen\u001b[39m(k0s) \u001b[38;5;241m==\u001b[39m \u001b[38;5;28mlen\u001b[39m(sigma_k_s)\n\u001b[0;32m---> 56\u001b[0m packets \u001b[38;5;241m=\u001b[39m [\n\u001b[1;32m     57\u001b[0m     \u001b[38;5;28mself\u001b[39m\u001b[38;5;241m.\u001b[39mone_particle_packet(k0s[i], sigma_k_s[i], x0s[i], signs[i])\n\u001b[1;32m     58\u001b[0m     \u001b[38;5;28;01mfor\u001b[39;00m i \u001b[38;5;129;01min\u001b[39;00m \u001b[38;5;28mrange\u001b[39m(\u001b[38;5;28mlen\u001b[39m(k0s))\n\u001b[1;32m     59\u001b[0m     ]\n\u001b[1;32m     60\u001b[0m in_state \u001b[38;5;241m=\u001b[39m \u001b[38;5;241m1\u001b[39m\n\u001b[1;32m     61\u001b[0m \u001b[38;5;28;01mfor\u001b[39;00m packet \u001b[38;5;129;01min\u001b[39;00m packets:\n",
      "File \u001b[0;32m~/Documents/coding/qca_sim/thirring.py:57\u001b[0m, in \u001b[0;36m<listcomp>\u001b[0;34m(.0)\u001b[0m\n\u001b[1;32m     40\u001b[0m \u001b[38;5;124;03m\"\"\"Build a initial state made out of gaussian wavepackets centered at locations specified by x0s, and momentum normally distributed around momenta specified by k0s with std deviation specified by sigma_k_s. \u001b[39;00m\n\u001b[1;32m     41\u001b[0m \n\u001b[1;32m     42\u001b[0m \u001b[38;5;124;03mFor more details on the gaussian wavepackes see the method 'one_particle_packet'. \u001b[39;00m\n\u001b[0;32m   (...)\u001b[0m\n\u001b[1;32m     53\u001b[0m \u001b[38;5;124;03m    np.ndarray: array representing the state of all particles\u001b[39;00m\n\u001b[1;32m     54\u001b[0m \u001b[38;5;124;03m\"\"\"\u001b[39;00m\n\u001b[1;32m     55\u001b[0m \u001b[38;5;28;01massert\u001b[39;00m \u001b[38;5;28mlen\u001b[39m(k0s) \u001b[38;5;241m==\u001b[39m \u001b[38;5;28mlen\u001b[39m(x0s) \u001b[38;5;129;01mand\u001b[39;00m \u001b[38;5;28mlen\u001b[39m(k0s) \u001b[38;5;241m==\u001b[39m \u001b[38;5;28mlen\u001b[39m(sigma_k_s)\n\u001b[1;32m     56\u001b[0m packets \u001b[38;5;241m=\u001b[39m [\n\u001b[0;32m---> 57\u001b[0m     \u001b[38;5;28;43mself\u001b[39;49m\u001b[38;5;241;43m.\u001b[39;49m\u001b[43mone_particle_packet\u001b[49m\u001b[43m(\u001b[49m\u001b[43mk0s\u001b[49m\u001b[43m[\u001b[49m\u001b[43mi\u001b[49m\u001b[43m]\u001b[49m\u001b[43m,\u001b[49m\u001b[43m \u001b[49m\u001b[43msigma_k_s\u001b[49m\u001b[43m[\u001b[49m\u001b[43mi\u001b[49m\u001b[43m]\u001b[49m\u001b[43m,\u001b[49m\u001b[43m \u001b[49m\u001b[43mx0s\u001b[49m\u001b[43m[\u001b[49m\u001b[43mi\u001b[49m\u001b[43m]\u001b[49m\u001b[43m,\u001b[49m\u001b[43m \u001b[49m\u001b[43msigns\u001b[49m\u001b[43m[\u001b[49m\u001b[43mi\u001b[49m\u001b[43m]\u001b[49m\u001b[43m)\u001b[49m\n\u001b[1;32m     58\u001b[0m     \u001b[38;5;28;01mfor\u001b[39;00m i \u001b[38;5;129;01min\u001b[39;00m \u001b[38;5;28mrange\u001b[39m(\u001b[38;5;28mlen\u001b[39m(k0s))\n\u001b[1;32m     59\u001b[0m     ]\n\u001b[1;32m     60\u001b[0m in_state \u001b[38;5;241m=\u001b[39m \u001b[38;5;241m1\u001b[39m\n\u001b[1;32m     61\u001b[0m \u001b[38;5;28;01mfor\u001b[39;00m packet \u001b[38;5;129;01min\u001b[39;00m packets:\n",
      "File \u001b[0;32m~/Documents/coding/qca_sim/thirring.py:98\u001b[0m, in \u001b[0;36mThirring.one_particle_packet\u001b[0;34m(self, k0, sigma_k, x0, sign)\u001b[0m\n\u001b[1;32m     96\u001b[0m ks \u001b[38;5;241m=\u001b[39m np\u001b[38;5;241m.\u001b[39marange(\u001b[38;5;241m-\u001b[39m\u001b[38;5;28mself\u001b[39m\u001b[38;5;241m.\u001b[39mL, \u001b[38;5;28mself\u001b[39m\u001b[38;5;241m.\u001b[39mL\u001b[38;5;241m-\u001b[39m\u001b[38;5;241m1\u001b[39m)\u001b[38;5;241m*\u001b[39mnp\u001b[38;5;241m.\u001b[39mpi\u001b[38;5;241m/\u001b[39m\u001b[38;5;28mself\u001b[39m\u001b[38;5;241m.\u001b[39mL\n\u001b[1;32m     97\u001b[0m weights \u001b[38;5;241m=\u001b[39m np\u001b[38;5;241m.\u001b[39mexp(\u001b[38;5;241m-\u001b[39m(ks\u001b[38;5;241m-\u001b[39mk0)\u001b[38;5;241m*\u001b[39m\u001b[38;5;241m*\u001b[39m\u001b[38;5;241m2\u001b[39m\u001b[38;5;241m/\u001b[39m(\u001b[38;5;241m2\u001b[39m\u001b[38;5;241m*\u001b[39msigma_k\u001b[38;5;241m*\u001b[39m\u001b[38;5;241m*\u001b[39m\u001b[38;5;241m2\u001b[39m)) \u001b[38;5;241m*\u001b[39m np\u001b[38;5;241m.\u001b[39mexp(\u001b[38;5;241m1\u001b[39mj\u001b[38;5;241m*\u001b[39mx0\u001b[38;5;241m*\u001b[39mks)\n\u001b[0;32m---> 98\u001b[0m \u001b[38;5;28;01mreturn\u001b[39;00m \u001b[38;5;28msum\u001b[39m([\n\u001b[1;32m     99\u001b[0m     weights[i] \u001b[38;5;241m*\u001b[39m \u001b[38;5;28mself\u001b[39m\u001b[38;5;241m.\u001b[39mone_particle_free_eigenfun(sign\u001b[38;5;241m=\u001b[39msign, k\u001b[38;5;241m=\u001b[39mk) \n\u001b[1;32m    100\u001b[0m     \u001b[38;5;28;01mfor\u001b[39;00m i,k \u001b[38;5;129;01min\u001b[39;00m \u001b[38;5;28menumerate\u001b[39m(ks)\n\u001b[1;32m    101\u001b[0m     ])\n",
      "File \u001b[0;32m~/Documents/coding/qca_sim/thirring.py:99\u001b[0m, in \u001b[0;36m<listcomp>\u001b[0;34m(.0)\u001b[0m\n\u001b[1;32m     96\u001b[0m ks \u001b[38;5;241m=\u001b[39m np\u001b[38;5;241m.\u001b[39marange(\u001b[38;5;241m-\u001b[39m\u001b[38;5;28mself\u001b[39m\u001b[38;5;241m.\u001b[39mL, \u001b[38;5;28mself\u001b[39m\u001b[38;5;241m.\u001b[39mL\u001b[38;5;241m-\u001b[39m\u001b[38;5;241m1\u001b[39m)\u001b[38;5;241m*\u001b[39mnp\u001b[38;5;241m.\u001b[39mpi\u001b[38;5;241m/\u001b[39m\u001b[38;5;28mself\u001b[39m\u001b[38;5;241m.\u001b[39mL\n\u001b[1;32m     97\u001b[0m weights \u001b[38;5;241m=\u001b[39m np\u001b[38;5;241m.\u001b[39mexp(\u001b[38;5;241m-\u001b[39m(ks\u001b[38;5;241m-\u001b[39mk0)\u001b[38;5;241m*\u001b[39m\u001b[38;5;241m*\u001b[39m\u001b[38;5;241m2\u001b[39m\u001b[38;5;241m/\u001b[39m(\u001b[38;5;241m2\u001b[39m\u001b[38;5;241m*\u001b[39msigma_k\u001b[38;5;241m*\u001b[39m\u001b[38;5;241m*\u001b[39m\u001b[38;5;241m2\u001b[39m)) \u001b[38;5;241m*\u001b[39m np\u001b[38;5;241m.\u001b[39mexp(\u001b[38;5;241m1\u001b[39mj\u001b[38;5;241m*\u001b[39mx0\u001b[38;5;241m*\u001b[39mks)\n\u001b[1;32m     98\u001b[0m \u001b[38;5;28;01mreturn\u001b[39;00m \u001b[38;5;28msum\u001b[39m([\n\u001b[0;32m---> 99\u001b[0m     weights[i] \u001b[38;5;241m*\u001b[39m \u001b[38;5;28;43mself\u001b[39;49m\u001b[38;5;241;43m.\u001b[39;49m\u001b[43mone_particle_free_eigenfun\u001b[49m\u001b[43m(\u001b[49m\u001b[43msign\u001b[49m\u001b[38;5;241;43m=\u001b[39;49m\u001b[43msign\u001b[49m\u001b[43m,\u001b[49m\u001b[43m \u001b[49m\u001b[43mk\u001b[49m\u001b[38;5;241;43m=\u001b[39;49m\u001b[43mk\u001b[49m\u001b[43m)\u001b[49m \n\u001b[1;32m    100\u001b[0m     \u001b[38;5;28;01mfor\u001b[39;00m i,k \u001b[38;5;129;01min\u001b[39;00m \u001b[38;5;28menumerate\u001b[39m(ks)\n\u001b[1;32m    101\u001b[0m     ])\n",
      "File \u001b[0;32m~/Documents/coding/qca_sim/thirring.py:120\u001b[0m, in \u001b[0;36mThirring.one_particle_free_eigenfun\u001b[0;34m(self, sign, k)\u001b[0m\n\u001b[1;32m    118\u001b[0m     v_int \u001b[38;5;241m=\u001b[39m np\u001b[38;5;241m.\u001b[39marray([\u001b[38;5;241m-\u001b[39m\u001b[38;5;241m1\u001b[39mj\u001b[38;5;241m*\u001b[39ms, Thirring\u001b[38;5;241m.\u001b[39m_get_gp(sign, k, c)])\n\u001b[1;32m    119\u001b[0m \u001b[38;5;28;01melse\u001b[39;00m:\n\u001b[0;32m--> 120\u001b[0m     \u001b[38;5;28;01mraise\u001b[39;00m \u001b[38;5;167;01mValueError\u001b[39;00m(\u001b[38;5;124m'\u001b[39m\u001b[38;5;124mnot implemented yet\u001b[39m\u001b[38;5;124m'\u001b[39m)\n\u001b[1;32m    121\u001b[0m \u001b[38;5;28;01mreturn\u001b[39;00m np\u001b[38;5;241m.\u001b[39mkron(v_int, plane_wave(\u001b[38;5;28mself\u001b[39m\u001b[38;5;241m.\u001b[39mL, k\u001b[38;5;241m=\u001b[39mk))\n",
      "\u001b[0;31mValueError\u001b[0m: not implemented yet"
     ]
    }
   ],
   "source": [
    "k0 = np.pi/3\n",
    "k0s = [k0, -k0]\n",
    "x0s = [-2*L/3, 2*L/3]\n",
    "sigma_k_s = 2*[0.1]\n",
    "signs = 2*[1]\n",
    "qca.psi = qca.in_state(k0s, x0s, sigma_k_s, signs)\n",
    "fig = plt.figure(figsize=(12, 12), dpi=80)\n",
    "fig.add_subplot(3, 2, 1)\n",
    "plt.title(f't = 0')\n",
    "n_steps = 5\n",
    "step = 40\n",
    "plot_px(qca)\n",
    "for i in range(n_steps):\n",
    "    qca.evolve(step)\n",
    "    fig.add_subplot(3, 2, i+2)\n",
    "    plot_px(qca)\n",
    "    plt.title(f't = {step*(i+1)}')\n",
    "fig.tight_layout()\n",
    "plt.show()"
   ]
  },
  {
   "cell_type": "code",
   "execution_count": null,
   "id": "99e3610e-2ae8-4203-a2ee-820a48e1f05a",
   "metadata": {},
   "outputs": [],
   "source": []
  }
 ],
 "metadata": {
  "kernelspec": {
   "display_name": "Python 3 (ipykernel)",
   "language": "python",
   "name": "python3"
  },
  "language_info": {
   "codemirror_mode": {
    "name": "ipython",
    "version": 3
   },
   "file_extension": ".py",
   "mimetype": "text/x-python",
   "name": "python",
   "nbconvert_exporter": "python",
   "pygments_lexer": "ipython3",
   "version": "3.10.5"
  }
 },
 "nbformat": 4,
 "nbformat_minor": 5
}
