{
 "cells": [
  {
   "cell_type": "code",
   "execution_count": 10,
   "id": "cd5333b1",
   "metadata": {},
   "outputs": [],
   "source": [
    "import numpy as np\n",
    "import random\n",
    "from matplotlib import pyplot as plt\n",
    "\n",
    "from one_particle import *\n",
    "from qca import ChainQW, SimpleQW, get_omega, x_to_index"
   ]
  },
  {
   "cell_type": "code",
   "execution_count": 23,
   "id": "349861a8-347d-4244-875c-e24cb5b17e30",
   "metadata": {},
   "outputs": [],
   "source": [
    "EPS = 1e-9"
   ]
  },
  {
   "cell_type": "markdown",
   "id": "349b4670-a172-41c4-a07d-7bb7ed255325",
   "metadata": {},
   "source": [
    "# Some checks"
   ]
  },
  {
   "cell_type": "code",
   "execution_count": 87,
   "id": "bd1341d3-97b0-4ace-9050-86164967745b",
   "metadata": {},
   "outputs": [],
   "source": [
    "L = 100\n",
    "theta = 2*np.pi*random.random()\n",
    "alpha = np.cos(theta)\n",
    "beta = np.sin(theta)\n",
    "k = np.pi*random.random()/2\n",
    "omega = get_omega(sign=1, k=k, alpha=alpha)\n",
    "chi = np.pi*random.random()"
   ]
  },
  {
   "cell_type": "code",
   "execution_count": 88,
   "id": "52b1493d-fed2-4bac-b2ad-9a10f47880c8",
   "metadata": {},
   "outputs": [],
   "source": [
    "xL = np.arange(-L, 3)\n",
    "xR = np.arange(3, L)\n",
    "o = np.array([1, 0])\n",
    "T = np.exp(1j*omega)*(np.exp(-1j*chi)-1)/alpha/(np.exp(2j*k)-np.exp(-2j*k))\n",
    "S = np.array([\n",
    "    [1-T, -np.exp(2j*k)*T],\n",
    "    [np.exp(-2j*k)*T, 1+T]\n",
    "])"
   ]
  },
  {
   "cell_type": "code",
   "execution_count": 99,
   "id": "bc2b14ac-bdae-4799-b98b-865056f983f0",
   "metadata": {},
   "outputs": [],
   "source": [
    "T0 = np.exp(2j*k) + np.exp(-2j*k)\n",
    "Tchi = (np.exp(1j*(omega-chi)) + np.exp(-1j*omega))/alpha\n",
    "S = np.array([\n",
    "    [2*np.exp(2j*k)-Tchi, np.exp(2j*k)*(T0-Tchi)],\n",
    "    [np.exp(-2j*k)*(Tchi-T0), Tchi-2*np.exp(-2j*k)]\n",
    "])/(np.exp(2j*k) - np.exp(-2j*k))"
   ]
  },
  {
   "cell_type": "code",
   "execution_count": 100,
   "id": "29a9600c-93c2-423d-84bf-29fb756a3494",
   "metadata": {},
   "outputs": [],
   "source": [
    "ot = S @ o \n",
    "psi_plus_L = (1-(-1)**np.abs(xL)) * (o[0]*np.exp(-1j*k*xL)+o[1]*np.exp(1j*k*xL))\n",
    "psi_plus_R = (1-(-1)**np.abs(xR)) * (ot[0]*np.exp(-1j*k*xR)+ot[1]*np.exp(1j*k*xR))\n",
    "psi_plus = np.concatenate([psi_plus_L, psi_plus_R])\n",
    "psi_minus = (np.exp(1j*omega)*shift(psi_plus, -1) - alpha*shift(psi_plus, 1))/(1j*beta)\n",
    "psi_minus[x_to_index(x=0, L=L)] *= np.exp(-1j*chi)\n",
    "psi = normalize(np.concatenate([psi_plus, psi_minus]))"
   ]
  },
  {
   "cell_type": "code",
   "execution_count": 101,
   "id": "81d53532-66e3-4b37-b960-bfd84d303085",
   "metadata": {},
   "outputs": [],
   "source": [
    "for x in reversed(range(-L+10, L-10)):\n",
    "    if x == 1:\n",
    "        phase1 = np.exp(1j*chi)\n",
    "    else:\n",
    "        phase1 = 1\n",
    "    eq1 = (alpha*psi_plus[x_to_index(x-2, L)]\n",
    "        + 1j*beta*phase1*psi_minus[x_to_index(x-1, L)] \n",
    "        - np.exp(1j*omega)*psi_plus[x_to_index(x, L)])\n",
    "    assert np.abs(eq1) < EPS, x"
   ]
  },
  {
   "cell_type": "code",
   "execution_count": 102,
   "id": "2c3c1ba1-eee7-4168-8411-76b2bf105eb3",
   "metadata": {},
   "outputs": [],
   "source": [
    "for x in range(-L+10, L-10):\n",
    "    if x == 3:\n",
    "        phase3 = Tchi\n",
    "    else:\n",
    "        phase3 = T0\n",
    "    eq3 = (psi_plus[x_to_index(x, L)] \n",
    "           - phase3*psi_plus[x_to_index(x-2, L)] \n",
    "           + psi_plus[x_to_index(x-4, L)])\n",
    "    assert np.abs(eq3) < EPS, x"
   ]
  },
  {
   "cell_type": "code",
   "execution_count": 104,
   "id": "b0d6f27f-8b69-4796-8632-b4adf109415d",
   "metadata": {},
   "outputs": [],
   "source": [
    "for x in reversed(range(-L+10, L-10)):\n",
    "    if x == -2:\n",
    "        phase2 = np.exp(1j*chi)\n",
    "    else:\n",
    "        phase2 = 1\n",
    "    eq2 = (1j*beta*psi_plus[x_to_index(x+1, L)]\n",
    "        + alpha*phase2*psi_minus[x_to_index(x+2, L)] \n",
    "        - np.exp(1j*omega)*psi_minus[x_to_index(x, L)])"
   ]
  },
  {
   "cell_type": "code",
   "execution_count": 10,
   "id": "3cb2190b-1b75-44ed-b754-d409c09f6fb8",
   "metadata": {},
   "outputs": [],
   "source": [
    "theta = 0\n",
    "chi = 0"
   ]
  },
  {
   "cell_type": "code",
   "execution_count": 11,
   "id": "bc6296a6-e062-4146-ac2b-b915dae8e51b",
   "metadata": {},
   "outputs": [],
   "source": [
    "qw = SimpleQW(L=L, theta=theta, chi=chi, psi=psi)"
   ]
  },
  {
   "cell_type": "code",
   "execution_count": 12,
   "id": "9aa6d062-3d14-4e10-b114-4b75f18012b5",
   "metadata": {},
   "outputs": [],
   "source": [
    "qw.evolve()"
   ]
  },
  {
   "cell_type": "code",
   "execution_count": 13,
   "id": "ba04489c-0554-41ad-907a-94a59bd27490",
   "metadata": {},
   "outputs": [
    {
     "data": {
      "image/png": "[encoded data removed]",
      "text/plain": [
       "<Figure size 432x288 with 1 Axes>"
      ]
     },
     "metadata": {
      "needs_background": "light"
     },
     "output_type": "display_data"
    }
   ],
   "source": [
    "for _ in range(10):\n",
    "    qw.plot_x()\n",
    "    qw.evolve()"
   ]
  },
  {
   "cell_type": "code",
   "execution_count": null,
   "id": "1c2e832d-d39f-438c-a9b0-9138c4b80c78",
   "metadata": {},
   "outputs": [],
   "source": [
    "qw = ChainQW(L=L, psi=psi, W=W)"
   ]
  },
  {
   "cell_type": "code",
   "execution_count": 27,
   "id": "6f031990-99d9-4cbd-b60a-56ff825e641b",
   "metadata": {},
   "outputs": [],
   "source": []
  },
  {
   "cell_type": "code",
   "execution_count": 28,
   "id": "8fb06aa4-aa29-43a0-8751-9a78280cd607",
   "metadata": {},
   "outputs": [],
   "source": []
  },
  {
   "cell_type": "code",
   "execution_count": 29,
   "id": "c003af16-db9c-4ddd-8af9-76a3c19d8ae5",
   "metadata": {},
   "outputs": [],
   "source": []
  },
  {
   "cell_type": "code",
   "execution_count": 30,
   "id": "aa7cf614-a9ef-44ad-abe7-d06afe21c8aa",
   "metadata": {},
   "outputs": [],
   "source": []
  },
  {
   "cell_type": "markdown",
   "id": "cf2eda6a-e8c9-4565-ae5a-e7cb35b0e02c",
   "metadata": {},
   "source": [
    "Adding interaction:"
   ]
  },
  {
   "cell_type": "code",
   "execution_count": 31,
   "id": "ecd2b58b-6ef0-4fbe-aea6-c8bd0bfbeb82",
   "metadata": {},
   "outputs": [],
   "source": []
  },
  {
   "cell_type": "markdown",
   "id": "8761b0a7-8ae5-451c-8b0a-9e5f29125f42",
   "metadata": {},
   "source": [
    "Generalized free solutions:"
   ]
  },
  {
   "cell_type": "code",
   "execution_count": 32,
   "id": "f8432302-9e17-4700-aab0-3483e7fc361a",
   "metadata": {},
   "outputs": [],
   "source": [
    "k = random.randint(0, L)*dk\n",
    "c = np.random.rand(4) + 1j*np.random.rand(4)\n",
    "psi_plus = c[0]*plane_wave(L=L, k=k) + c[1]*plane_wave(L=L, k=k-np.pi)\n",
    "psi_minus = c[2]*plane_wave(L=L, k=-k) - c[2]*plane_wave(L=L, k=np.pi-k)\n",
    "psi = normalize(np.block([psi_plus, psi_minus]))"
   ]
  },
  {
   "cell_type": "code",
   "execution_count": 33,
   "id": "9291ab7b-abcb-4f9b-9f4a-a818b6c369c1",
   "metadata": {},
   "outputs": [],
   "source": [
    "qw = ChainQW(psi=psi, blocks_w=blocks_w, L=L, V=V, d=d)\n",
    "for n in range(L):\n",
    "    qw.evolve()\n",
    "    assert np.allclose(np.exp(2j*(n+1)*k)*psi, qw.psi)"
   ]
  },
  {
   "cell_type": "markdown",
   "id": "eb788696-9f07-4fab-b2e9-11220e836eeb",
   "metadata": {},
   "source": [
    "Interacting solutions:"
   ]
  },
  {
   "cell_type": "code",
   "execution_count": 36,
   "id": "afd05989-f02d-40c2-90d6-09bea3949198",
   "metadata": {},
   "outputs": [],
   "source": [
    "k = random.randint(0, L)*dk\n",
    "c = np.random.rand(4) + 1j*np.random.rand(4)\n",
    "psi_plus = c[0]*plane_wave(L=L, k=k) + c[1]*plane_wave(L=L, k=k-np.pi)\n",
    "x = np.arange(-L, L)\n",
    "psi_minus = np.exp(-1j*chi*np.heaviside(x, 1, where=x%2==0))*(c[2]*np.exp(1j*k*x)+c[3]*np.exp(1j*(k-np.pi)*x))\n",
    "psi = normalize(np.block([psi_plus, psi_minus]))"
   ]
  },
  {
   "cell_type": "code",
   "execution_count": 37,
   "id": "411d21fa-8638-4fb1-b288-53f56ad2b820",
   "metadata": {},
   "outputs": [],
   "source": [
    "qw = ChainQW(psi=psi, blocks_w=blocks_w, L=L, V=V, d=d)\n",
    "for n in range(L):\n",
    "    qw.evolve()\n",
    "    assert np.allclose(np.exp(2j*(n+1)*k)*psi, qw.psi)"
   ]
  },
  {
   "cell_type": "code",
   "execution_count": 14,
   "id": "edfcca8d",
   "metadata": {},
   "outputs": [],
   "source": [
    "\n",
    "# initial state of QCA\n",
    "psi_minus = localized_particle(L=L, x0=L/2, k=-k)\n",
    "#\n",
    "psi_plus = np.zeros(2*L)\n",
    "#psi_minus = localized_particle(L=L, x0=-L/2, k=k)\n",
    "\n",
    "# quantum walk\n",
    "\n",
    "\n"
   ]
  },
  {
   "cell_type": "code",
   "execution_count": null,
   "id": "8c5fdbf4-d59a-42bf-b38d-26676e0177ce",
   "metadata": {},
   "outputs": [],
   "source": []
  },
  {
   "cell_type": "code",
   "execution_count": 50,
   "id": "1de1e1b1",
   "metadata": {},
   "outputs": [],
   "source": []
  },
  {
   "cell_type": "code",
   "execution_count": 51,
   "id": "2112d0dd",
   "metadata": {},
   "outputs": [
    {
     "data": {
      "text/plain": [
       "[<matplotlib.lines.Line2D at 0x12f818100>]"
      ]
     },
     "execution_count": 51,
     "metadata": {},
     "output_type": "execute_result"
    },
    {
     "data": {
      "image/png": "[encoded data removed]",
      "text/plain": [
       "<Figure size 432x288 with 1 Axes>"
      ]
     },
     "metadata": {
      "needs_background": "light"
     },
     "output_type": "display_data"
    }
   ],
   "source": [
    "qw.plot_x()"
   ]
  },
  {
   "cell_type": "code",
   "execution_count": 52,
   "id": "6dfe1cbe",
   "metadata": {},
   "outputs": [
    {
     "data": {
      "image/png": "[encoded data removed]",
      "text/plain": [
       "<Figure size 432x288 with 1 Axes>"
      ]
     },
     "metadata": {
      "needs_background": "light"
     },
     "output_type": "display_data"
    }
   ],
   "source": [
    "for _ in range(3):\n",
    "    qw.plot_x()\n",
    "    qw.evolve(10)"
   ]
  },
  {
   "cell_type": "code",
   "execution_count": 34,
   "id": "8231eac0",
   "metadata": {},
   "outputs": [],
   "source": [
    "ps = []\n",
    "for t in range(4*L):\n",
    "    ps.append(qw.p_x(0))\n",
    "    qw.evolve()"
   ]
  },
  {
   "cell_type": "code",
   "execution_count": 35,
   "id": "f8cc2696",
   "metadata": {},
   "outputs": [
    {
     "data": {
      "text/plain": [
       "[<matplotlib.lines.Line2D at 0x12fe322f0>]"
      ]
     },
     "execution_count": 35,
     "metadata": {},
     "output_type": "execute_result"
    },
    {
     "data": {
      "image/png": "[encoded data removed]",
      "text/plain": [
       "<Figure size 432x288 with 1 Axes>"
      ]
     },
     "metadata": {
      "needs_background": "light"
     },
     "output_type": "display_data"
    }
   ],
   "source": [
    "plt.plot(ps)"
   ]
  },
  {
   "cell_type": "code",
   "execution_count": 176,
   "id": "99df26c8",
   "metadata": {},
   "outputs": [],
   "source": [
    "x = np.arange(-L, L)\n",
    "chi = 0.1\n",
    "omega = np.pi/L+chi\n",
    "fns = [(np.exp(-1j*chi)-1)/(np.exp(-1j*omega)-np.exp(-1j*np.pi/L*n)) for n in np.arange(-L, L)]\n",
    "f = sum([fns[i]*np.exp(1j*np.pi*(i-L)/L*x) for i in np.arange(2*L)])\n",
    "f = normalize(f)"
   ]
  },
  {
   "cell_type": "code",
   "execution_count": 186,
   "id": "597b7ddd-2405-4a77-8785-c35707e258b0",
   "metadata": {},
   "outputs": [],
   "source": [
    "x = np.arange(-L, L)\n",
    "chi = 0.1\n",
    "omega = (np.pi+chi/2)/L\n",
    "f = np.exp(1j*(omega*x-chi*np.heaviside(x, 1)))\n",
    "#f = normalize(f)"
   ]
  },
  {
   "cell_type": "code",
   "execution_count": 187,
   "id": "ca1357bd-b50e-41b4-99e3-d7e131f50616",
   "metadata": {},
   "outputs": [
    {
     "data": {
      "text/plain": [
       "array([-0.99875026+0.04997917j, -0.96399481-0.26592107j,\n",
       "       -0.83187501-0.55496304j, -0.61573508-0.78795324j,\n",
       "       -0.33740536-0.94135945j, -0.0249974 -0.99968752j,\n",
       "        0.28993533-0.95704624j,  0.57558433-0.81774243j,\n",
       "        0.80309879-0.5958459j ,  0.94949955-0.31376839j,\n",
       "        0.99500417-0.09983342j,  0.97608058+0.21740908j,\n",
       "        0.85857197+0.51269305j,  0.65434682+0.75619457j,\n",
       "        0.38403206+0.92331976j,  0.07492971+0.99718882j,\n",
       "       -0.24174061+0.97034091j, -0.53399491+0.84548769j,\n",
       "       -0.77231524+0.63523946j, -0.93263104+0.36083146j])"
      ]
     },
     "execution_count": 187,
     "metadata": {},
     "output_type": "execute_result"
    }
   ],
   "source": [
    "f"
   ]
  },
  {
   "cell_type": "code",
   "execution_count": 188,
   "id": "9ed5f632-390d-4c66-977d-8130e89de1ef",
   "metadata": {},
   "outputs": [
    {
     "data": {
      "image/png": "[encoded data removed]",
      "text/plain": [
       "<Figure size 432x288 with 1 Axes>"
      ]
     },
     "metadata": {
      "needs_background": "light"
     },
     "output_type": "display_data"
    }
   ],
   "source": [
    "plt.plot(x, np.real(f))\n",
    "plt.plot(x, np.imag(f))\n",
    "plt.xticks([i for i in np.arange(-L, L+1) if i%2==0])\n",
    "plt.show()"
   ]
  },
  {
   "cell_type": "code",
   "execution_count": 189,
   "id": "86e02960-0606-4c75-a876-9deeeb056eac",
   "metadata": {},
   "outputs": [],
   "source": [
    "def phase(omega, chi, i):\n",
    "    if i != L:\n",
    "        return np.exp(1j*omega)\n",
    "    else:\n",
    "        return np.exp(1j*(omega-chi))"
   ]
  },
  {
   "cell_type": "code",
   "execution_count": 190,
   "id": "ef9b4c70-1f8b-4407-bbeb-b18b555b6797",
   "metadata": {},
   "outputs": [
    {
     "name": "stdout",
     "output_type": "stream",
     "text": [
      "0.000000-0.000000j\n",
      "0.000000+0.000000j\n",
      "-0.000000+0.000000j\n",
      "-0.000000+0.000000j\n",
      "0.000000+0.000000j\n",
      "0.000000+0.000000j\n",
      "-0.000000+0.000000j\n",
      "0.000000+0.000000j\n",
      "0.000000+0.000000j\n",
      "0.000000+0.000000j\n",
      "0.000000+0.000000j\n",
      "-0.000000+0.000000j\n",
      "-0.000000+0.000000j\n",
      "0.000000+0.000000j\n",
      "0.000000-0.000000j\n",
      "0.000000-0.000000j\n",
      "-0.000000-0.000000j\n",
      "0.000000+0.000000j\n",
      "0.000000+0.000000j\n",
      "0.000000+0.000000j\n"
     ]
    }
   ],
   "source": [
    "for i in range(2*L):\n",
    "    print(f'{f[i]-phase(omega, chi, i)*f[(i-1)%(2*L)]:.6f}')"
   ]
  },
  {
   "cell_type": "code",
   "execution_count": 154,
   "id": "4f32b941-86fa-48cd-a745-e92e5bd63d5c",
   "metadata": {},
   "outputs": [
    {
     "data": {
      "text/plain": [
       "0.34428707323776453"
      ]
     },
     "execution_count": 154,
     "metadata": {},
     "output_type": "execute_result"
    }
   ],
   "source": [
    "np.angle(a)"
   ]
  },
  {
   "cell_type": "code",
   "execution_count": 156,
   "id": "32519f38-99a8-4da8-a4c4-4d8ed43f21f2",
   "metadata": {},
   "outputs": [
    {
     "data": {
      "text/plain": [
       "0.3141592653589793"
      ]
     },
     "execution_count": 156,
     "metadata": {},
     "output_type": "execute_result"
    }
   ],
   "source": [
    "np.pi*chi"
   ]
  },
  {
   "cell_type": "code",
   "execution_count": 152,
   "id": "020ec88f-c9e8-42c2-a001-c84b9e91eaca",
   "metadata": {},
   "outputs": [],
   "source": [
    "a = (f[L]-(0.143307-0.399664j))/f[L-1]"
   ]
  },
  {
   "cell_type": "code",
   "execution_count": 153,
   "id": "ce5eba75-fdec-45d0-a09d-3fd0d9c12480",
   "metadata": {},
   "outputs": [
    {
     "data": {
      "text/plain": [
       "0.9999985989615854"
      ]
     },
     "execution_count": 153,
     "metadata": {},
     "output_type": "execute_result"
    }
   ],
   "source": [
    "np.abs(a)"
   ]
  },
  {
   "cell_type": "code",
   "execution_count": null,
   "id": "96052b7d-cee8-4dcd-b7a2-4f483cbe53ce",
   "metadata": {},
   "outputs": [],
   "source": []
  }
 ],
 "metadata": {
  "kernelspec": {
   "display_name": "Python 3 (ipykernel)",
   "language": "python",
   "name": "python3"
  },
  "language_info": {
   "codemirror_mode": {
    "name": "ipython",
    "version": 3
   },
   "file_extension": ".py",
   "mimetype": "text/x-python",
   "name": "python",
   "nbconvert_exporter": "python",
   "pygments_lexer": "ipython3",
   "version": "3.10.5"
  }
 },
 "nbformat": 4,
 "nbformat_minor": 5
}
