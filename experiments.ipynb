{
 "cells": [
  {
   "cell_type": "code",
   "execution_count": 1,
   "id": "cd5333b1",
   "metadata": {},
   "outputs": [],
   "source": [
    "import numpy as np\n",
    "import random\n",
    "from matplotlib import pyplot as plt\n",
    "\n",
    "from one_particle import *\n",
    "from qca import ChainQW"
   ]
  },
  {
   "cell_type": "markdown",
   "id": "349b4670-a172-41c4-a07d-7bb7ed255325",
   "metadata": {},
   "source": [
    "# Some checks"
   ]
  },
  {
   "cell_type": "markdown",
   "id": "790cb096-bbcf-4c95-9245-9832eece7e10",
   "metadata": {},
   "source": [
    "## A very simple model"
   ]
  },
  {
   "cell_type": "code",
   "execution_count": 26,
   "id": "bc6296a6-e062-4146-ac2b-b915dae8e51b",
   "metadata": {},
   "outputs": [],
   "source": []
  },
  {
   "cell_type": "markdown",
   "id": "22ce8a34-810c-4c14-bbcc-a98d2815ec34",
   "metadata": {},
   "source": [
    "Free theory"
   ]
  },
  {
   "cell_type": "code",
   "execution_count": 27,
   "id": "6f031990-99d9-4cbd-b60a-56ff825e641b",
   "metadata": {},
   "outputs": [],
   "source": []
  },
  {
   "cell_type": "code",
   "execution_count": 28,
   "id": "8fb06aa4-aa29-43a0-8751-9a78280cd607",
   "metadata": {},
   "outputs": [],
   "source": []
  },
  {
   "cell_type": "code",
   "execution_count": 29,
   "id": "c003af16-db9c-4ddd-8af9-76a3c19d8ae5",
   "metadata": {},
   "outputs": [],
   "source": []
  },
  {
   "cell_type": "code",
   "execution_count": 30,
   "id": "aa7cf614-a9ef-44ad-abe7-d06afe21c8aa",
   "metadata": {},
   "outputs": [],
   "source": []
  },
  {
   "cell_type": "markdown",
   "id": "cf2eda6a-e8c9-4565-ae5a-e7cb35b0e02c",
   "metadata": {},
   "source": [
    "Adding interaction:"
   ]
  },
  {
   "cell_type": "code",
   "execution_count": 31,
   "id": "ecd2b58b-6ef0-4fbe-aea6-c8bd0bfbeb82",
   "metadata": {},
   "outputs": [],
   "source": []
  },
  {
   "cell_type": "markdown",
   "id": "8761b0a7-8ae5-451c-8b0a-9e5f29125f42",
   "metadata": {},
   "source": [
    "Generalized free solutions:"
   ]
  },
  {
   "cell_type": "code",
   "execution_count": 32,
   "id": "f8432302-9e17-4700-aab0-3483e7fc361a",
   "metadata": {},
   "outputs": [],
   "source": [
    "k = random.randint(0, L)*dk\n",
    "c = np.random.rand(4) + 1j*np.random.rand(4)\n",
    "psi_plus = c[0]*plane_wave(L=L, k=k) + c[1]*plane_wave(L=L, k=k-np.pi)\n",
    "psi_minus = c[2]*plane_wave(L=L, k=-k) - c[2]*plane_wave(L=L, k=np.pi-k)\n",
    "psi = normalize(np.block([psi_plus, psi_minus]))"
   ]
  },
  {
   "cell_type": "code",
   "execution_count": 33,
   "id": "9291ab7b-abcb-4f9b-9f4a-a818b6c369c1",
   "metadata": {},
   "outputs": [],
   "source": [
    "qw = ChainQW(psi=psi, blocks_w=blocks_w, L=L, V=V, d=d)\n",
    "for n in range(L):\n",
    "    qw.evolve()\n",
    "    assert np.allclose(np.exp(2j*(n+1)*k)*psi, qw.psi)"
   ]
  },
  {
   "cell_type": "markdown",
   "id": "eb788696-9f07-4fab-b2e9-11220e836eeb",
   "metadata": {},
   "source": [
    "Interacting solutions:"
   ]
  },
  {
   "cell_type": "code",
   "execution_count": 36,
   "id": "afd05989-f02d-40c2-90d6-09bea3949198",
   "metadata": {},
   "outputs": [],
   "source": [
    "k = random.randint(0, L)*dk\n",
    "c = np.random.rand(4) + 1j*np.random.rand(4)\n",
    "psi_plus = c[0]*plane_wave(L=L, k=k) + c[1]*plane_wave(L=L, k=k-np.pi)\n",
    "x = np.arange(-L, L)\n",
    "psi_minus = np.exp(-1j*chi*np.heaviside(x, 1, where=x%2==0))*(c[2]*np.exp(1j*k*x)+c[3]*np.exp(1j*(k-np.pi)*x))\n",
    "psi = normalize(np.block([psi_plus, psi_minus]))"
   ]
  },
  {
   "cell_type": "code",
   "execution_count": 37,
   "id": "411d21fa-8638-4fb1-b288-53f56ad2b820",
   "metadata": {},
   "outputs": [],
   "source": [
    "qw = ChainQW(psi=psi, blocks_w=blocks_w, L=L, V=V, d=d)\n",
    "for n in range(L):\n",
    "    qw.evolve()\n",
    "    assert np.allclose(np.exp(2j*(n+1)*k)*psi, qw.psi)"
   ]
  },
  {
   "cell_type": "code",
   "execution_count": 14,
   "id": "edfcca8d",
   "metadata": {},
   "outputs": [],
   "source": [
    "\n",
    "# initial state of QCA\n",
    "psi_minus = localized_particle(L=L, x0=L/2, k=-k)\n",
    "#\n",
    "psi_plus = np.zeros(2*L)\n",
    "#psi_minus = localized_particle(L=L, x0=-L/2, k=k)\n",
    "\n",
    "# quantum walk\n",
    "\n",
    "\n"
   ]
  },
  {
   "cell_type": "code",
   "execution_count": null,
   "id": "8c5fdbf4-d59a-42bf-b38d-26676e0177ce",
   "metadata": {},
   "outputs": [],
   "source": []
  },
  {
   "cell_type": "code",
   "execution_count": 50,
   "id": "1de1e1b1",
   "metadata": {},
   "outputs": [],
   "source": []
  },
  {
   "cell_type": "code",
   "execution_count": 51,
   "id": "2112d0dd",
   "metadata": {},
   "outputs": [
    {
     "data": {
      "text/plain": [
       "[<matplotlib.lines.Line2D at 0x12f818100>]"
      ]
     },
     "execution_count": 51,
     "metadata": {},
     "output_type": "execute_result"
    },
    {
     "data": {
      "image/png": "[encoded data removed]",
      "text/plain": [
       "<Figure size 432x288 with 1 Axes>"
      ]
     },
     "metadata": {
      "needs_background": "light"
     },
     "output_type": "display_data"
    }
   ],
   "source": [
    "qw.plot_x()"
   ]
  },
  {
   "cell_type": "code",
   "execution_count": 52,
   "id": "6dfe1cbe",
   "metadata": {},
   "outputs": [
    {
     "data": {
      "image/png": "[encoded data removed]",
      "text/plain": [
       "<Figure size 432x288 with 1 Axes>"
      ]
     },
     "metadata": {
      "needs_background": "light"
     },
     "output_type": "display_data"
    }
   ],
   "source": [
    "for _ in range(3):\n",
    "    qw.plot_x()\n",
    "    qw.evolve(10)"
   ]
  },
  {
   "cell_type": "code",
   "execution_count": 34,
   "id": "8231eac0",
   "metadata": {},
   "outputs": [],
   "source": [
    "ps = []\n",
    "for t in range(4*L):\n",
    "    ps.append(qw.p_x(0))\n",
    "    qw.evolve()"
   ]
  },
  {
   "cell_type": "code",
   "execution_count": 35,
   "id": "f8cc2696",
   "metadata": {},
   "outputs": [
    {
     "data": {
      "text/plain": [
       "[<matplotlib.lines.Line2D at 0x12fe322f0>]"
      ]
     },
     "execution_count": 35,
     "metadata": {},
     "output_type": "execute_result"
    },
    {
     "data": {
      "image/png": "[encoded data removed]",
      "text/plain": [
       "<Figure size 432x288 with 1 Axes>"
      ]
     },
     "metadata": {
      "needs_background": "light"
     },
     "output_type": "display_data"
    }
   ],
   "source": [
    "plt.plot(ps)"
   ]
  },
  {
   "cell_type": "code",
   "execution_count": null,
   "id": "99df26c8",
   "metadata": {},
   "outputs": [],
   "source": []
  }
 ],
 "metadata": {
  "kernelspec": {
   "display_name": "Python 3 (ipykernel)",
   "language": "python",
   "name": "python3"
  },
  "language_info": {
   "codemirror_mode": {
    "name": "ipython",
    "version": 3
   },
   "file_extension": ".py",
   "mimetype": "text/x-python",
   "name": "python",
   "nbconvert_exporter": "python",
   "pygments_lexer": "ipython3",
   "version": "3.10.5"
  }
 },
 "nbformat": 4,
 "nbformat_minor": 5
}
